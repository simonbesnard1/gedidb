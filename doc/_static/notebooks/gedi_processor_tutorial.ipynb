{
 "cells": [
  {
   "cell_type": "markdown",
   "id": "2cb67a69",
   "metadata": {},
   "source": [
    "# GEDIProcessor Tutorial\n",
    "\n",
    "This notebook demonstrates how to use the `GEDIProcessor` class in **gediDB** to handle the full GEDI data pipeline, from downloading to processing and storing data in a database."
   ]
  },
  {
   "cell_type": "markdown",
   "id": "39bbd661",
   "metadata": {},
   "source": [
    "## 1. Setup and Configuration\n",
    "\n",
    "Ensure you have configured the `data_config.yml` and `db_scheme.sql` files with the correct database and data paths."
   ]
  },
  {
   "cell_type": "code",
   "execution_count": null,
   "id": "2ea67fae",
   "metadata": {},
   "outputs": [],
   "source": [
    "# Import necessary classes\n",
    "from gedidb.core.gediprocessor import GEDIProcessor\n",
    "\n",
    "# Define paths to configuration files\n",
    "data_config_file = './config_files/data_config.yml'\n",
    "sql_config_file = './config_files/db_scheme.sql'\n",
    "\n",
    "# Initialize GEDIProcessor with 4 parallel workers\n",
    "processor = GEDIProcessor(data_config_file=data_config_file, sql_config_file=sql_config_file, n_workers=4)"
   ]
  },
  {
   "cell_type": "markdown",
   "id": "a1138746",
   "metadata": {},
   "source": [
    "## 2. Run Data Processing\n",
    "\n",
    "The following command will trigger the entire pipeline, including downloading, filtering, merging, and writing data to the database."
   ]
  },
  {
   "cell_type": "code",
   "execution_count": null,
   "id": "ad1c7fdc",
   "metadata": {},
   "outputs": [],
   "source": [
    "# Process GEDI data and store in the database\n",
    "processor.compute()"
   ]
  },
  {
   "cell_type": "markdown",
   "id": "85ed31d5",
   "metadata": {},
   "source": [
    "This concludes the GEDIProcessor tutorial. Now you have GEDI data processed and stored in a database, ready for querying with GEDIProvider."
   ]
  }
 ],
 "metadata": {},
 "nbformat": 4,
 "nbformat_minor": 5
}
