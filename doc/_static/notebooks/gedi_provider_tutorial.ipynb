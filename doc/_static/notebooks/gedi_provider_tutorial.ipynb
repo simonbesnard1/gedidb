{
 "cells": [
  {
   "cell_type": "markdown",
   "id": "0afea401",
   "metadata": {},
   "source": [
    "# GEDIProvider Tutorial\n",
    "\n",
    "This notebook demonstrates how to use the `GEDIProvider` class in **gediDB** to query GEDI data from a PostgreSQL/PostGIS database."
   ]
  },
  {
   "cell_type": "markdown",
   "id": "bd642073",
   "metadata": {},
   "source": [
    "## 1. Setup and Initialize GEDIProvider\n",
    "\n",
    "Make sure you have your database set up with GEDI data using the `GEDIProcessor`. The following code will connect to your database and prepare for querying."
   ]
  },
  {
   "cell_type": "code",
   "execution_count": null,
   "id": "16513ca4",
   "metadata": {},
   "source": [
    "# Import GEDIProvider class\n",
    "from gedidb.providers.gedi_provider import GEDIProvider\n",
    "\n",
    "# Define configuration file and table name\n",
    "config_file = './config_files/data_config.yml'\n",
    "table_name = 'filtered_l2ab_l4ac_shots'\n",
    "\n",
    "# Initialize GEDIProvider\n",
    "provider = GEDIProvider(config_file=config_file, table_name=table_name)"
   ],
   "outputs": []
  },
  {
   "cell_type": "markdown",
   "id": "bed6255d",
   "metadata": {},
   "source": [
    "## 2. Query Data\n",
    "\n",
    "Retrieve GEDI data based on spatial, temporal, and variable-specific filters."
   ]
  },
  {
   "cell_type": "code",
   "execution_count": null,
   "id": "eccb7cf2",
   "metadata": {},
   "source": [
    "# Define variables to retrieve and query parameters\n",
    "variables = ['rh', 'pavd_z', 'pai']\n",
    "dataset = provider.get_dataset(\n",
    "    variables=variables,\n",
    "    start_time='2018-01-01', end_time='2023-12-31',\n",
    "    limit=100, order_by=['-shot_number'],\n",
    "    return_type='xarray'\n",
    ")\n",
    "\n",
    "# Display dataset\n",
    "dataset"
   ],
   "outputs": []
  },
  {
   "cell_type": "markdown",
   "id": "50597ced",
   "metadata": {},
   "source": [
    "This concludes the GEDIProvider tutorial. You have now retrieved GEDI data with specified filters, ready for analysis."
   ]
  }
 ],
 "metadata": {},
 "nbformat": 4,
 "nbformat_minor": 5
}
