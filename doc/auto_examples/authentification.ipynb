{
  "cells": [
    {
      "cell_type": "markdown",
      "metadata": {},
      "source": [
        "\n# Authenticating with NASA EarthData API\n\nThis example demonstrates how to authenticate with the NASA EarthData API using the `EarthDataAuthenticator` class.\nThe authentication process involves managing `.netrc` and cookie files to ensure seamless automated login.\n\nBefore running this example:\n\n1. Ensure you have a valid EarthData account. You can create one at https://urs.earthdata.nasa.gov.\n2. Install `wget`, which is used to fetch cookies. You can install it via your system's package manager (e.g., `apt-get install wget` on Debian/Ubuntu).\n"
      ]
    },
    {
      "cell_type": "code",
      "execution_count": null,
      "metadata": {
        "collapsed": false
      },
      "outputs": [],
      "source": [
        "from pathlib import Path\nfrom gedidb.downloader.authentication import EarthDataAuthenticator\n\n# Specify the directory where `.netrc` and cookies will be stored\nearth_data_dir = Path.home()\n\n# Initialize the authenticator\nauthenticator = EarthDataAuthenticator(earth_data_dir=earth_data_dir, strict=False)\n\n# Authenticate and ensure `.netrc` and cookies are valid\nauthenticator.authenticate()\n\n# Expected Output:\n# ----------------\n# INFO:__main__:EarthData authentication setup incomplete; starting setup.\n# Please enter your Earthdata Login username: <your_username>\n# Please enter your Earthdata Login password: \n# INFO:__main__:Credentials added to .netrc file.\n# INFO:__main__:Attempting to fetch Earthdata cookies and save to /home/username/.earthdata_auth/.cookies\n# INFO:__main__:Earthdata cookies successfully fetched and saved to /home/username/.earthdata_auth/.cookies.\n# Authentication complete."
      ]
    }
  ],
  "metadata": {
    "kernelspec": {
      "display_name": "Python 3",
      "language": "python",
      "name": "python3"
    },
    "language_info": {
      "codemirror_mode": {
        "name": "ipython",
        "version": 3
      },
      "file_extension": ".py",
      "mimetype": "text/x-python",
      "name": "python",
      "nbconvert_exporter": "python",
      "pygments_lexer": "ipython3",
      "version": "3.12.0"
    }
  },
  "nbformat": 4,
  "nbformat_minor": 0
}