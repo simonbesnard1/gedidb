{
  "cells": [
    {
      "cell_type": "markdown",
      "metadata": {},
      "source": [
        "\n# Retrieve List of Variables in TileDB Array\n\nThis example demonstrates how to retrieve the list of variables stored in a TileDB array\nusing the `GEDIProvider` class from the `gedidb` package. The output is a `pandas.DataFrame`\ncontaining variable names, descriptions, and metadata.\n\n## Prerequisites:\n1. GEDI data must be processed and stored in TileDB arrays.\n2. Configure the TileDB storage backend (local or S3).\n\n## Steps:\n1. Configure the TileDB backend (local or S3).\n2. Initialize the `GEDIProvider`.\n3. Retrieve and display the list of available variables.\n"
      ]
    },
    {
      "cell_type": "code",
      "execution_count": null,
      "metadata": {
        "collapsed": false
      },
      "outputs": [],
      "source": [
        "import gedidb as gdb\n\n# Step 1: Configure the TileDB storage backend\nstorage_type = \"local\"  # Options: \"local\" or \"s3\"\nlocal_path = \"/path/to/processed/gedi/data\"  # Update with your local TileDB path\ns3_bucket = None  # Set the S3 bucket name if using S3 storage\n\n# Step 2: Initialize the GEDIProvider\nprovider = gdb.GEDIProvider(\n    storage_type=storage_type,\n    local_path=local_path,\n    s3_bucket=s3_bucket,\n)\n\n# Step 3: Retrieve the list of available variables in the TileDB array\nvariables_df = provider.get_available_variables()\n\n# Display the resulting DataFrame\nprint(variables_df)"
      ]
    }
  ],
  "metadata": {
    "kernelspec": {
      "display_name": "Python 3",
      "language": "python",
      "name": "python3"
    },
    "language_info": {
      "codemirror_mode": {
        "name": "ipython",
        "version": 3
      },
      "file_extension": ".py",
      "mimetype": "text/x-python",
      "name": "python",
      "nbconvert_exporter": "python",
      "pygments_lexer": "ipython3",
      "version": "3.12.0"
    }
  },
  "nbformat": 4,
  "nbformat_minor": 0
}