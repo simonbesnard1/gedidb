{
  "cells": [
    {
      "cell_type": "markdown",
      "metadata": {},
      "source": [
        "\n# Creating a Regional TileDB Array for the Amazon\n\nThis example demonstrates how to create a **regional TileDB array** for the Amazon \nby modifying the `data_config.yml` file to adjust the **spatial range** based on \na bounding box extracted from a GeoJSON file.\n\nA default data configuration file (`data_config.yml`) can be downloaded here:\n\n:download:`Download data_config.yml <../_static/test_files/data_config.yml>`\n\nA default GeoJSON file for the Amazon region (`amazon.geojson`) can be downloaded here:\n\n:download:`Download amazon.geojson <../_static/test_files/amazon.geojson>`\n\nWe will:\n\n1. Modify the configuration file (`data_config.yml`) to define the Amazon spatial extent.\n2. Initialize the `GEDIProcessor` with the modified configuration.\n3. Process GEDI granules and store them in a **regional TileDB array**.\n"
      ]
    },
    {
      "cell_type": "code",
      "execution_count": null,
      "metadata": {
        "collapsed": false
      },
      "outputs": [],
      "source": [
        "# Import required libraries\nimport gedidb as gdb\nimport yaml\nimport json\n\n# Define paths for configuration and spatial data\nconfig_file = \"/path/to/data_config.yml\"\ngeojson_path = \"/path/to/amazon.geojson\"\n\n# Step 1: Modify the Configuration File\n# -------------------------------------\n# Load the existing configuration file\nwith open(config_file, \"r\") as file:\n    config = yaml.safe_load(file)\n\n# Define the Amazon bounding box from the GeoJSON file\nwith open(geojson_path, \"r\") as file:\n    amazon_geojson = json.load(file)\n\n# Extract bounding box from the GeoJSON\namazon_bbox = amazon_geojson[\"features\"][0][\"geometry\"][\"coordinates\"][0]\nlon_min, lat_min = amazon_bbox[0]  # Bottom-left corner\nlon_max, lat_max = amazon_bbox[2]  # Top-right corner\n\n# Update the configuration file with the new bounding box\nconfig[\"tiledb\"][\"local_path\"] = \"tiledb/amazon\"\nconfig[\"tiledb\"][\"spatial_range\"][\"lat_min\"] = lat_min\nconfig[\"tiledb\"][\"spatial_range\"][\"lat_max\"] = lat_max\nconfig[\"tiledb\"][\"spatial_range\"][\"lon_min\"] = lon_min\nconfig[\"tiledb\"][\"spatial_range\"][\"lon_max\"] = lon_max\n\n# Save the modified configuration\nnew_config_file = \"data_config_amazon.yml\"\nwith open(new_config_file, \"w\") as file:\n    yaml.dump(config, file, default_flow_style=False)\n\nprint(f\"Updated configuration saved as '{new_config_file}'.\")\n\n# Step 2: Run the GEDI Processor\n# ------------------------------\n# Define additional parameters\nstart_date = \"2020-01-01\"\nend_date = \"2023-12-31\"\nearth_data_dir = \"/path/to/EarthData_credentials\"\n\n# Initialize and run the GEDIProcessor\nwith gdb.GEDIProcessor(\n    config_file=new_config_file,\n    geometry=geojson_path,\n    start_date=start_date,\n    end_date=end_date,\n    earth_data_dir=earth_data_dir,\n    parallel_engine=None,  # Modify if using Dask or ThreadPoolExecutor\n) as processor:\n    # Process the data and consolidate TileDB fragments\n    processor.compute(consolidate=True)\n\nprint(\"Regional TileDB array for the Amazon has been successfully created.\")"
      ]
    }
  ],
  "metadata": {
    "kernelspec": {
      "display_name": "Python 3",
      "language": "python",
      "name": "python3"
    },
    "language_info": {
      "codemirror_mode": {
        "name": "ipython",
        "version": 3
      },
      "file_extension": ".py",
      "mimetype": "text/x-python",
      "name": "python",
      "nbconvert_exporter": "python",
      "pygments_lexer": "ipython3",
      "version": "3.12.0"
    }
  },
  "nbformat": 4,
  "nbformat_minor": 0
}