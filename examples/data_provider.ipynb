{
  "cells": [
    {
      "cell_type": "markdown",
      "metadata": {},
      "source": [
        "\n# Querying Processed GEDI Data from TileDB\n\nThis example demonstrates how to use the `GEDIProvider` class to query and retrieve GEDI data stored in TileDB arrays.\nWe will:\n\n1. Set up the `GEDIProvider` with a TileDB storage backend.\n2. Query data using spatial and temporal filters.\n3. Retrieve data in both `xarray.Dataset` and `pandas.DataFrame` formats.\n4. Perform nearest-shot queries to retrieve GEDI data closest to a given point.\n\nBefore running this example:\n\n- Ensure that the GEDI data has been processed and stored in TileDB arrays.\n- Configure the TileDB storage settings (local or S3) based on your data location.\n"
      ]
    },
    {
      "cell_type": "code",
      "execution_count": null,
      "metadata": {
        "collapsed": false
      },
      "outputs": [],
      "source": [
        "import geopandas as gpd\nfrom gedidb.providers.gedi_provider import GEDIProvider\n\n# Configure the TileDB storage backend\nstorage_type = \"local\"  # Options: \"local\" or \"s3\"\nlocal_path = \"/path/to/processed/gedi/data\"\ns3_bucket = None  # Only required if using \"s3\"\n\n# Initialize the GEDIProvider\nprovider = GEDIProvider(\n    storage_type=storage_type,\n    local_path=local_path,\n    s3_bucket=s3_bucket,\n)\n\n# Define variables to retrieve\nvariables = [\"latitude\", \"longitude\", \"rh100\", \"beam\"]\n\n# Define the spatial region of interest (ROI) as a GeoJSON file or GeoDataFrame\ngeojson_path = \"/path/to/roi.geojson\"\ngeometry = gpd.read_file(geojson_path)\n\n# Define the temporal range\nstart_time = \"2020-01-01\"\nend_time = \"2020-12-31\""
      ]
    },
    {
      "cell_type": "markdown",
      "metadata": {},
      "source": [
        "## Section 1: Bounding Box Query\n\n"
      ]
    },
    {
      "cell_type": "code",
      "execution_count": null,
      "metadata": {
        "collapsed": false
      },
      "outputs": [],
      "source": [
        "print(\"=== Bounding Box Query ===\")\nprint(\"Querying GEDI data within a specified spatial and temporal range.\")\n\n# Query data within the bounding box and time range, and retrieve it as an `xarray.Dataset`\ndata_xarray = provider.get_data(\n    variables=variables,\n    geometry=geometry,\n    start_time=start_time,\n    end_time=end_time,\n    return_type=\"xarray\",\n    query_type=\"bounding_box\",\n)\n\n# Print the retrieved `xarray.Dataset`\nprint(\"Retrieved data as an xarray.Dataset:\")\nprint(data_xarray)"
      ]
    },
    {
      "cell_type": "markdown",
      "metadata": {},
      "source": [
        "## Section 2: Nearest Shot Query\n\n"
      ]
    },
    {
      "cell_type": "code",
      "execution_count": null,
      "metadata": {
        "collapsed": false
      },
      "outputs": [],
      "source": [
        "print(\"\\n=== Nearest Shot Query ===\")\nprint(\"Querying GEDI data for the nearest shots to a specific point.\")\n\n# Specify a geographic point (longitude, latitude) and the number of nearest shots\npoint = (-55.0, -10.0)  # Example longitude and latitude\nnum_shots = 5  # Retrieve the 5 nearest shots\n\n# Query data for the nearest GEDI shots\nnearest_data = provider.get_data(\n    variables=variables,\n    point=point,\n    num_shots=num_shots,\n    query_type=\"nearest\",\n    return_type=\"xarray\",\n)\n\n# Print the nearest GEDI shots\nprint(\"Retrieved nearest GEDI shots as an xarray.Dataset:\")\nprint(nearest_data)"
      ]
    },
    {
      "cell_type": "markdown",
      "metadata": {},
      "source": [
        "## Section 3: Data Format Options\n\n"
      ]
    },
    {
      "cell_type": "code",
      "execution_count": null,
      "metadata": {
        "collapsed": false
      },
      "outputs": [],
      "source": [
        "print(\"\\n=== Data Format Options ===\")\nprint(\"Retrieving GEDI data as a pandas.DataFrame for easier tabular analysis.\")\n\n# Query the data within the bounding box and retrieve it as a `pandas.DataFrame`\ndata_dataframe = provider.get_data(\n    variables=variables,\n    geometry=geometry,\n    start_time=start_time,\n    end_time=end_time,\n    return_type=\"dataframe\",\n    query_type=\"bounding_box\",\n)\n\n# Print the retrieved `pandas.DataFrame`\nprint(\"Retrieved data as a pandas.DataFrame:\")\nprint(data_dataframe)"
      ]
    }
  ],
  "metadata": {
    "kernelspec": {
      "display_name": "Python 3",
      "language": "python",
      "name": "python3"
    },
    "language_info": {
      "codemirror_mode": {
        "name": "ipython",
        "version": 3
      },
      "file_extension": ".py",
      "mimetype": "text/x-python",
      "name": "python",
      "nbconvert_exporter": "python",
      "pygments_lexer": "ipython3",
      "version": "3.12.0"
    }
  },
  "nbformat": 4,
  "nbformat_minor": 0
}